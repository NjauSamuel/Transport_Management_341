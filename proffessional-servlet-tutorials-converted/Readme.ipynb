{
 "cells": [
  {
   "cell_type": "markdown",
   "id": "5e3dffea",
   "metadata": {},
   "source": [
    "# servlet-tutorial\n",
    "A complete Java servlet 4 tutorial for beginners as well as professionals\n",
    "\n",
    "<div>\n",
    "<div style=\"text-align: left;\">\n",
    "</div>\n",
    "<ul style=\"text-align: left;\">\n",
    "<li><a href=\"https://www.javaguides.net/2019/03/servlet-jsp-jdbc-mysql-example.html\" target=\"_blank\">Servlet + JSP + JDBC + MySQL Example</a></li>\n",
    "</ul>\n",
    "<ul style=\"text-align: left;\">\n",
    "<li><a href=\"https://www.javaguides.net/2019/03/registration-form-using-jsp-servlet-jdbc-mysql-example.html\" target=\"_blank\">Registration Form using JSP + Servlet + JDBC + Mysql Example</a></li>\n",
    "</ul>\n",
    "<ul style=\"text-align: left;\">\n",
    "<li><a href=\"https://www.javaguides.net/2019/03/login-form-using-jsp-servlet-jdbc-mysql-example.html\" target=\"_blank\">Login Form using JSP + Servlet + JDBC + MySQL Example</a></li>\n",
    "</ul>\n",
    "  \n",
    "  <ul style=\"text-align: left;\">\n",
    "<li><a href=\"https://www.javaguides.net/2019/09/upload-file-to-database-with-servlet-jsp-jdbc-mysql-using-blob.html\" target=\"_blank\">Upload File to Database with Servlet,JSP,JDBC and MySQL using BLOB</a></li>\n",
    "</ul>\n",
    "</div>\n"
   ]
  },
  {
   "cell_type": "code",
   "execution_count": null,
   "id": "d46e7f3c",
   "metadata": {},
   "outputs": [],
   "source": []
  }
 ],
 "metadata": {
  "kernelspec": {
   "display_name": "Python 3 (ipykernel)",
   "language": "python",
   "name": "python3"
  },
  "language_info": {
   "codemirror_mode": {
    "name": "ipython",
    "version": 3
   },
   "file_extension": ".py",
   "mimetype": "text/x-python",
   "name": "python",
   "nbconvert_exporter": "python",
   "pygments_lexer": "ipython3",
   "version": "3.11.5"
  }
 },
 "nbformat": 4,
 "nbformat_minor": 5
}
